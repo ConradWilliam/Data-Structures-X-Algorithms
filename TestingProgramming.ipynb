{
 "cells": [
  {
   "cell_type": "code",
   "execution_count": 1,
   "metadata": {},
   "outputs": [
    {
     "name": "stdout",
     "output_type": "stream",
     "text": [
      "55\n"
     ]
    }
   ],
   "source": [
    "def fibonacci(index):\n",
    "\n",
    "     \n",
    "    if index == 1 or index == 2:\n",
    "        value = 1\n",
    "    else :\n",
    "       value = fibonacci(index - 1) + fibonacci(index - 2)\n",
    "\n",
    "    return value\n",
    "    \n",
    "print(fibonacci(10))"
   ]
  },
  {
   "cell_type": "code",
   "execution_count": 9,
   "metadata": {},
   "outputs": [
    {
     "name": "stdout",
     "output_type": "stream",
     "text": [
      "[None, 1, 1, 2]\n"
     ]
    }
   ],
   "source": [
    "def fibonacciMemoize(i, store):\n",
    "    if store[i] is not None:\n",
    "        return store[i]\n",
    "\n",
    "    if i == 1 or i == 2:\n",
    "        value = 1\n",
    "    else :\n",
    "       value = fibonacciMemoize(i - 1, store) + fibonacciMemoize(i - 2, store)\n",
    "\n",
    "    store[i] = value\n",
    "\n",
    "    return value\n",
    "\n",
    "i = 3\n",
    "store = [None]*(i + 1)\n",
    "fibonacciMemoize(i, store)\n",
    "\n",
    "print(store)"
   ]
  },
  {
   "cell_type": "code",
   "execution_count": null,
   "metadata": {},
   "outputs": [],
   "source": [
    "def fibonacciBottomUp(i):\n",
    "    if i = =1 or i ==2:\n",
    "        return i\n",
    "\n",
    "    store = [None]*(i+1)\n",
    "    store [1] = 1\n",
    "    store [2] = 2\n",
    "\n",
    "    for i in range(3, i+1)\n",
    "        store[i] = store[i - 2] + store[i - 2]\n",
    "\n",
    "    return store[i]\n",
    "\n",
    "i = 5\n",
    "fibonacciBottomUp(i)\n",
    "\n",
    "    "
   ]
  }
 ],
 "metadata": {
  "kernelspec": {
   "display_name": "Python 3",
   "language": "python",
   "name": "python3"
  },
  "language_info": {
   "codemirror_mode": {
    "name": "ipython",
    "version": 3
   },
   "file_extension": ".py",
   "mimetype": "text/x-python",
   "name": "python",
   "nbconvert_exporter": "python",
   "pygments_lexer": "ipython3",
   "version": "3.10.4"
  },
  "orig_nbformat": 4,
  "vscode": {
   "interpreter": {
    "hash": "fb4569285eef3a3450cb62085a5b1e0da4bce0af555edc33dcf29baf3acc1368"
   }
  }
 },
 "nbformat": 4,
 "nbformat_minor": 2
}
